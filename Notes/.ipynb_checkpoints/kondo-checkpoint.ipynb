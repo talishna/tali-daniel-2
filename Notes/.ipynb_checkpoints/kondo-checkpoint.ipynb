{
 "cells": [
  {
   "cell_type": "markdown",
   "metadata": {},
   "source": [
    "# Section\n",
    "## t' model \n",
    "We consider the following model\n",
    "$$\n",
    "\\hat{\\mathcal{H}}=\\hat{\\mathcal{H}}_L+\\hat{\\mathcal{H}}_R+\\hat{\\mathcal{H}}_J\n",
    "$$\n",
    "where $L$ and $R$ is our left and right reservoirs, $L\\in \\left\\{1, \\ldots, N\\right\\}$ , $R\\in\\left\\{N+2, \\ldots, 2N+1\\right\\}$: \n",
    "$$ \n",
    "\\hat{\\mathcal{H}}_{\\alpha}=-\\mu_\\alpha \\sum_{j}\\hat{c}_{j}^\\dagger \\hat{c}_{j} - t\\sum_{j}  \\hat{c}^\\dagger_{j} \\hat{c}_{j+1} + \\hat{c}_{j+1}^\\dagger\\hat{c}_{j}\n",
    "$$\n",
    "with $\\alpha\\in\\{L,R\\}$, and $J$ is our junction: \n",
    "$$\n",
    "\\hat{\\mathcal{H}}_{J}=-\\mu_J\\hat{c}_{N+1}^\\dagger \\hat{c}_{N+1} - t'\\left[ \\hat{c}^\\dagger_{N} \\hat{c}_{N+1} + \\hat{c}_{N+1}^\\dagger\\hat{c}_{N+2}\\right]+\\mathrm{h.c}\n",
    "$$"
   ]
  },
  {
   "cell_type": "markdown",
   "metadata": {},
   "source": [
    "## t' +a model\n",
    "\n",
    "We consider the following model\n",
    "$$\n",
    "\\hat{\\mathcal{H}}=\\hat{\\mathcal{H}}_L+\\hat{\\mathcal{H}}_R+\\hat{\\mathcal{H}}_J+\\hat{\\mathcal{H}}_{\\mathrm{int}}\n",
    "$$\n",
    "where $L$ and $R$ is our left and right reservoirs, $L\\in \\left\\{1, \\ldots, N\\right\\}$ , $R\\in\\left\\{N+2, \\ldots, 2N+1\\right\\}$: \n",
    "$$ \n",
    "\\hat{\\mathcal{H}}_{\\alpha}=-\\mu_\\alpha \\sum_{j}\\hat{c}_{j}^\\dagger \\hat{c}_{j} - t\\sum_{j}  \\hat{c}^\\dagger_{j} \\hat{c}_{j+1} + \\hat{c}_{j+1}^\\dagger\\hat{c}_{j}\n",
    "$$\n",
    "with $\\alpha\\in\\{L,R\\}$, and $J$ is our junction: \n",
    "$$\n",
    "\\hat{\\mathcal{H}}_{J}=-\\mu_J\\hat{c}_{N+1}^\\dagger \\hat{c}_{N+1} - t'\\left[ \\hat{c}^\\dagger_{N} \\hat{c}_{N+1} + \\hat{c}_{N+1}^\\dagger\\hat{c}_{N+2}\\right]+\\mathrm{h.c}\n",
    "$$\n",
    "and our interaction term: \n",
    "$$\n",
    "\\hat{\\mathcal{H}}_{a}=U\\hat{c}_{a}^\\dagger \\hat{c}_{a} \\hat{c}_{N+1}^\\dagger \\hat{c}_{N+1}\n",
    "$$"
   ]
  },
  {
   "cell_type": "markdown",
   "metadata": {},
   "source": [
    "## t'+a+b model \n",
    "\n",
    "We consider the following model\n",
    "$$\n",
    "\\hat{\\mathcal{H}}=\\hat{\\mathcal{H}}_L+\\hat{\\mathcal{H}}_R+\\hat{\\mathcal{H}}_J+\\hat{\\mathcal{H}}_{\\mathrm{int}}+\\hat{\\mathcal{H}}_{\\mathrm{dot}}\n",
    "$$\n",
    "where $L$ and $R$ is our left and right reservoirs, $L\\in \\left\\{1, \\ldots, N\\right\\}$ , $R\\in\\left\\{N+2, \\ldots, 2N+1\\right\\}$:\n",
    "$$ \n",
    "\\hat{\\mathcal{H}}_{\\alpha}=-\\mu_\\alpha \\sum_{j}\\hat{c}_{j}^\\dagger \\hat{c}_{j} - t\\sum_{j}  \\hat{c}^\\dagger_{j} \\hat{c}_{j+1} + \\hat{c}_{j+1}^\\dagger\\hat{c}_{j}\n",
    "$$\n",
    "with $\\alpha\\in\\{L,R\\}$, and $J$ is our junction: \n",
    "$$\n",
    "\\hat{\\mathcal{H}}_{J}=-\\mu_J\\hat{c}_{N+1}^\\dagger \\hat{c}_{N+1} - t'\\left[ \\hat{c}^\\dagger_{N} \\hat{c}_{N+1} + \\hat{c}_{N+1}^\\dagger\\hat{c}_{N+2}\\right]+\\mathrm{h.c}\n",
    "$$\n",
    "and our interaction: \n",
    "$$\n",
    "\\hat{\\mathcal{H}}_{\\mathrm{int}}=U\\hat{c}_{a}^\\dagger \\hat{c}_{a} \\hat{c}_{N+1}^\\dagger \\hat{c}_{N+1}\n",
    "$$\n",
    "and the dot Hamiltonian\n",
    "$$\n",
    "\\hat{\\mathcal{H}}_{\\mathrm{dot}}=\\varepsilon_a\\hat{c}_{a}^\\dagger \\hat{c}_{a}+\\varepsilon_b\\hat{c}_{b}^\\dagger \\hat{c}_{b}+  t''\\hat{c}^\\dagger_{a} \\hat{c}_{b}+\\mathrm{h.c}\n",
    "$$"
   ]
  },
  {
   "cell_type": "markdown",
   "metadata": {},
   "source": [
    "\n",
    "# Jordan-Wigner transformation \n",
    "The Hamiltonian now is:\n",
    "$$\n",
    "\\hat{\\mathcal{H}}= \\sum_{j} \\left[ -\\mu  \\hat{c}_{j}^\\dagger \\hat{c}_{j} - t \\left( \\hat{c}^\\dagger_{j} \\hat{c}_{j+1} + \\hat{c}_{j+1}^\\dagger\\hat{c}_{j}  \\right) \\right]\n",
    "$$\n",
    "The Jordan-Wigner Transformation is a transformation from the Spin basis to the Fermion basis, we'll want to do the opposite transformation:\n",
    "$$\n",
    "\\hat{c}_{j}^{\\dagger} = \\hat{K}(j) \\hat{S}_{j}^{+}  \\\\\n",
    "\\hat{c}_{j} = \\hat{S}_{j}^{-} \\hat{K}(j)   \\\\\n",
    "\\hat{c}_{j}^{\\dagger} \\hat{c}_{j} = \\hat{S}_{j}^{z} + \\frac{1}{2} \\\\\n",
    "$$\n",
    "Where $\\hat{K}(j)$ is defined as:\n",
    "$$\n",
    "\\hat{K}(j) = \\exp\\biggl(\\, i\\pi \\sum_{k=1}^{j-1} \\hat{c}_{J}^{\\dagger} \\hat{c}_{j} \\biggr) = \\exp\\left(\\, i\\pi \\sum_{k=1}^{j-1}  \\left( \\hat{S}_{j}^{z} + \\frac{1}{2} \\right) \\right) = \\prod_{k=1}^{j-1} \\left( -\\sigma_{j}^{z} \\right)\n",
    "$$\n",
    "Let's rewrite the Hamiltonian:\n",
    "$$\n",
    "\\hat{\\mathcal{H}}= \\sum_{j} \\left[ -\\mu \\left( \\hat{S}_{j}^{z} + \\frac{1}{2} \\right) - t \\left( \\hat{K}(j) \\hat{S}_{j}^{+} \\hat{S}_{j+1}^{-} \\hat{K}(j+1) + \\hat{K}(j+1) \\hat{S}_{j+1}^{+} \\hat{S}_{j}^{-} \\hat{K}(j)  \\right) \\right]\n",
    "$$\n",
    "Where $ \\hat{S}_{j}^{+} , \\hat{S}_{j}^{-}$ are the usual annihalation and destraction operators:\n",
    "$$\n",
    "\\hat{S}_{j}^{+} = \\hat{S}_{j}^{x} + i\\hat{S}_{j}^{y} \\\\\n",
    "\\hat{S}_{j}^{-} = \\hat{S}_{j}^{x} - i\\hat{S}_{j}^{y}\n",
    "$$\n",
    "And $ \\hat{S}^{x}, \\hat{S}^{y} , \\hat{S}^{z} $ are the usual Pauli matrices:\n",
    "\n",
    "$$\\hat{S}^{x} = \\frac{1}{2} \\begin{bmatrix} 0 & 1 \\\\ 1 & 0 \\end{bmatrix}$$\n",
    "$$\\hat{S}^{y} = \\frac{1}{2} \\begin{bmatrix} 0 & -i \\\\ i & 0 \\end{bmatrix}$$\n",
    "$$\\hat{S}^{z} = \\frac{1}{2} \\begin{bmatrix} 1 & 0 \\\\ 0 & -1 \\end{bmatrix}$$\n"
   ]
  },
  {
   "cell_type": "code",
   "execution_count": 4,
   "metadata": {},
   "outputs": [
    {
     "name": "stdout",
     "output_type": "stream",
     "text": [
      "[[-0.3 +0.j -0.15+0.j -0.15+0.j -0.15+0.j -0.15+0.j -0.15+0.j -0.15+0.j\n",
      "  -0.15+0.j]\n",
      " [-0.15+0.j -0.2 +0.j -1.15+0.j -0.15+0.j -0.15+0.j -0.15+0.j -0.15+0.j\n",
      "  -0.15+0.j]\n",
      " [-0.15+0.j -1.15+0.j -0.2 +0.j -0.15+0.j -1.15+0.j -0.15+0.j -0.15+0.j\n",
      "  -0.15+0.j]\n",
      " [-0.15+0.j -0.15+0.j -0.15+0.j -0.1 +0.j -0.15+0.j -1.15+0.j -0.15+0.j\n",
      "  -0.15+0.j]\n",
      " [-0.15+0.j -0.15+0.j -1.15+0.j -0.15+0.j -0.2 +0.j -0.15+0.j -0.15+0.j\n",
      "  -0.15+0.j]\n",
      " [-0.15+0.j -0.15+0.j -0.15+0.j -1.15+0.j -0.15+0.j -0.1 +0.j -1.15+0.j\n",
      "  -0.15+0.j]\n",
      " [-0.15+0.j -0.15+0.j -0.15+0.j -0.15+0.j -0.15+0.j -1.15+0.j -0.1 +0.j\n",
      "  -0.15+0.j]\n",
      " [-0.15+0.j -0.15+0.j -0.15+0.j -0.15+0.j -0.15+0.j -0.15+0.j -0.15+0.j\n",
      "   0.  +0.j]]\n",
      "[[ 1.5+0.j  0. +0.j  0. +0.j  0. +0.j  0. +0.j  0. +0.j  0. +0.j  0. +0.j]\n",
      " [ 0. +0.j  1.5+0.j  0. +0.j  0. +0.j  0. +0.j  0. +0.j  0. +0.j  0. +0.j]\n",
      " [ 0. +0.j  0. +0.j -0.5+0.j  0. +0.j  0. +0.j  0. +0.j  0. +0.j  0. +0.j]\n",
      " [ 0. +0.j  0. +0.j  0. +0.j -0.5+0.j  0. +0.j  0. +0.j  0. +0.j  0. +0.j]\n",
      " [ 0. +0.j  0. +0.j  0. +0.j  0. +0.j  0.5+0.j  0. +0.j  0. +0.j  0. +0.j]\n",
      " [ 0. +0.j  0. +0.j  0. +0.j  0. +0.j  0. +0.j  0.5+0.j  0. +0.j  0. +0.j]\n",
      " [ 0. +0.j  0. +0.j  0. +0.j  0. +0.j  0. +0.j  0. +0.j -1.5+0.j  0. +0.j]\n",
      " [ 0. +0.j  0. +0.j  0. +0.j  0. +0.j  0. +0.j  0. +0.j  0. +0.j -1.5+0.j]]\n"
     ]
    }
   ],
   "source": [
    "import numpy as np\n",
    "import matplotlib.pyplot as plt\n",
    "from scipy import linalg\n",
    "\n",
    "# Defining the single spin operators s_x, s_y, s_z:\n",
    "s_x = 0.5*np.array([[0,1],[1,0]], dtype=complex)\n",
    "s_y = 0.5*np.array([[0,-1j],[1j,0]], dtype=complex)\n",
    "s_z = 0.5*np.array([[1,0],[0,-1]], dtype=complex)\n",
    "N = 3 #number of spins\n",
    "s_plus = s_x + 1j*s_y\n",
    "s_minus = s_x - 1j*s_y\n",
    "\n",
    "# Defining the N spins operators\n",
    "def s(matrix, spin_index): # matrix is the matrix I want to do kron prod for. options are: s_z, s_plus, s_minus # spin_index is the spin index inside the chain, so if it's 1 it'll be the 1st spin if 2 the 2nd spin ect.\n",
    "    if spin_index == 1: # dealing with the case that there is no need for identity matrix on the left side which is only for the 1st spin\n",
    "        M = np.kron(matrix, np.identity(2**(N-1), dtype=complex))\n",
    "    elif spin_index == N: # dealing with the case that there is no need for identity matrix on the right side which is only for the Nth spin\n",
    "        M = np.kron(np.identity(2**(spin_index-1), dtype=complex),matrix)\n",
    "    else: # for all other cases where 1<index<N and then there is need for identity matrices on both sides\n",
    "        M = np.kron(np.identity(2**(spin_index-1), dtype=complex),np.kron(matrix, np.identity(2**(N-spin_index), dtype=complex))) # the first identity matrix is of size 2^i the last identity matrix is of size N-i\n",
    "    return M\n",
    "\n",
    "def k(spin_index): # calculates k(i) for the jordan-wigner trans\n",
    "    matrix = np.identity(2**N, dtype=complex)\n",
    "    for i in range(1, spin_index): # this reaches i-1, and I used the last equality for k(i)\n",
    "        matrix = np.matmul(matrix, -2*s(s_z, i))\n",
    "    return matrix\n",
    "\n",
    "def H(mu,t): # calculates the hamiltonian\n",
    "    H = np.zeros((2**N,2**N), dtype=complex)\n",
    "        H += -mu*(s(s_z,i)+0.5)-t*(np.matmul(k(i),np.matmul(s(s_plus,i),np.matmul(s(s_minus,i+1),k(i+1)))) + np.matmul(k(i+1),np.matmul(s(s_plus,i+1),np.matmul(s(s_minus,i),k(i)))))\n",
    "    H += -mu*(s(s_z,N)+0.5) # this is the last object for which the t term is zero because i+1>N and the boundary is open\n",
    "    return H\n",
    "\n",
    "def Sz_Total(): # calculates the total mag operator \n",
    "    SzT = np.zeros((2**N,2**N), dtype=complex)\n",
    "    for i in range(1,N): # this is for the N-1 first objects in the sum of H\n",
    "        SzT += s(s_z,i)\n",
    "    SzT += s(s_z,i)# this is the last object for which the t term is zero because i+1>N and the boundary is open\n",
    "    return SzT\n",
    "\n",
    "## test if the S function works proparly\n",
    "# print(s(s_x,2))\n",
    "# I = np.array([[1,0],[0,1]])\n",
    "# test = np.kron(I,np.kron(s_x,I))\n",
    "# np.array_equal(s(s_x,2), test)\n",
    "\n",
    "## test H\n",
    "t=1\n",
    "print(H(0.1,t))\n",
    "print(Sz_Total())\n",
    "\n",
    "# now I need to calc H for different mu and find the eigenvalues(energies) and plot energy for different mu\n"
   ]
  },
  {
   "cell_type": "code",
   "execution_count": 3,
   "metadata": {},
   "outputs": [
    {
     "ename": "ValueError",
     "evalue": "need at least one array to concatenate",
     "output_type": "error",
     "traceback": [
      "\u001b[1;31m---------------------------------------------------------------------------\u001b[0m",
      "\u001b[1;31mValueError\u001b[0m                                Traceback (most recent call last)",
      "\u001b[1;32m~\\AppData\\Local\\Temp\\ipykernel_3032\\2884460655.py\u001b[0m in \u001b[0;36m<module>\u001b[1;34m\u001b[0m\n\u001b[0;32m      2\u001b[0m \u001b[0mI\u001b[0m \u001b[1;33m=\u001b[0m \u001b[0mnp\u001b[0m\u001b[1;33m.\u001b[0m\u001b[0midentity\u001b[0m\u001b[1;33m(\u001b[0m\u001b[1;36m0\u001b[0m\u001b[1;33m)\u001b[0m\u001b[1;33m\u001b[0m\u001b[1;33m\u001b[0m\u001b[0m\n\u001b[0;32m      3\u001b[0m \u001b[0ms_x\u001b[0m \u001b[1;33m=\u001b[0m \u001b[1;36m0.5\u001b[0m\u001b[1;33m*\u001b[0m\u001b[0mnp\u001b[0m\u001b[1;33m.\u001b[0m\u001b[0marray\u001b[0m\u001b[1;33m(\u001b[0m\u001b[1;33m[\u001b[0m\u001b[1;33m[\u001b[0m\u001b[1;36m0\u001b[0m\u001b[1;33m,\u001b[0m\u001b[1;36m1\u001b[0m\u001b[1;33m]\u001b[0m\u001b[1;33m,\u001b[0m\u001b[1;33m[\u001b[0m\u001b[1;36m1\u001b[0m\u001b[1;33m,\u001b[0m\u001b[1;36m0\u001b[0m\u001b[1;33m]\u001b[0m\u001b[1;33m]\u001b[0m\u001b[1;33m)\u001b[0m\u001b[1;33m\u001b[0m\u001b[1;33m\u001b[0m\u001b[0m\n\u001b[1;32m----> 4\u001b[1;33m \u001b[0mprint\u001b[0m\u001b[1;33m(\u001b[0m\u001b[0mnp\u001b[0m\u001b[1;33m.\u001b[0m\u001b[0mkron\u001b[0m\u001b[1;33m(\u001b[0m\u001b[0mI\u001b[0m\u001b[1;33m,\u001b[0m\u001b[0ms_x\u001b[0m\u001b[1;33m)\u001b[0m\u001b[1;33m)\u001b[0m\u001b[1;33m\u001b[0m\u001b[1;33m\u001b[0m\u001b[0m\n\u001b[0m",
      "\u001b[1;32m<__array_function__ internals>\u001b[0m in \u001b[0;36mkron\u001b[1;34m(*args, **kwargs)\u001b[0m\n",
      "\u001b[1;32m~\\anaconda3\\lib\\site-packages\\numpy\\lib\\shape_base.py\u001b[0m in \u001b[0;36mkron\u001b[1;34m(a, b)\u001b[0m\n\u001b[0;32m   1155\u001b[0m     \u001b[0maxis\u001b[0m \u001b[1;33m=\u001b[0m \u001b[0mnd\u001b[0m\u001b[1;33m-\u001b[0m\u001b[1;36m1\u001b[0m\u001b[1;33m\u001b[0m\u001b[1;33m\u001b[0m\u001b[0m\n\u001b[0;32m   1156\u001b[0m     \u001b[1;32mfor\u001b[0m \u001b[0m_\u001b[0m \u001b[1;32min\u001b[0m \u001b[0mrange\u001b[0m\u001b[1;33m(\u001b[0m\u001b[0mnd\u001b[0m\u001b[1;33m)\u001b[0m\u001b[1;33m:\u001b[0m\u001b[1;33m\u001b[0m\u001b[1;33m\u001b[0m\u001b[0m\n\u001b[1;32m-> 1157\u001b[1;33m         \u001b[0mresult\u001b[0m \u001b[1;33m=\u001b[0m \u001b[0mconcatenate\u001b[0m\u001b[1;33m(\u001b[0m\u001b[0mresult\u001b[0m\u001b[1;33m,\u001b[0m \u001b[0maxis\u001b[0m\u001b[1;33m=\u001b[0m\u001b[0maxis\u001b[0m\u001b[1;33m)\u001b[0m\u001b[1;33m\u001b[0m\u001b[1;33m\u001b[0m\u001b[0m\n\u001b[0m\u001b[0;32m   1158\u001b[0m     \u001b[0mwrapper\u001b[0m \u001b[1;33m=\u001b[0m \u001b[0mget_array_prepare\u001b[0m\u001b[1;33m(\u001b[0m\u001b[0ma\u001b[0m\u001b[1;33m,\u001b[0m \u001b[0mb\u001b[0m\u001b[1;33m)\u001b[0m\u001b[1;33m\u001b[0m\u001b[1;33m\u001b[0m\u001b[0m\n\u001b[0;32m   1159\u001b[0m     \u001b[1;32mif\u001b[0m \u001b[0mwrapper\u001b[0m \u001b[1;32mis\u001b[0m \u001b[1;32mnot\u001b[0m \u001b[1;32mNone\u001b[0m\u001b[1;33m:\u001b[0m\u001b[1;33m\u001b[0m\u001b[1;33m\u001b[0m\u001b[0m\n",
      "\u001b[1;32m<__array_function__ internals>\u001b[0m in \u001b[0;36mconcatenate\u001b[1;34m(*args, **kwargs)\u001b[0m\n",
      "\u001b[1;31mValueError\u001b[0m: need at least one array to concatenate"
     ]
    }
   ],
   "source": [
    "import numpy as np\n",
    "I = np.identity(0)\n",
    "s_x = 0.5*np.array([[0,1],[1,0]])\n",
    "print(np.kron(I,s_x))"
   ]
  },
  {
   "cell_type": "markdown",
   "metadata": {},
   "source": []
  },
  {
   "cell_type": "markdown",
   "metadata": {},
   "source": []
  },
  {
   "cell_type": "markdown",
   "metadata": {},
   "source": []
  },
  {
   "cell_type": "markdown",
   "metadata": {},
   "source": []
  },
  {
   "cell_type": "code",
   "execution_count": 1,
   "metadata": {},
   "outputs": [
    {
     "data": {
      "text/plain": [
       "2"
      ]
     },
     "execution_count": 1,
     "metadata": {},
     "output_type": "execute_result"
    }
   ],
   "source": [
    "1+1 "
   ]
  },
  {
   "cell_type": "code",
   "execution_count": null,
   "metadata": {},
   "outputs": [],
   "source": []
  }
 ],
 "metadata": {
  "hide_input": false,
  "kernelspec": {
   "display_name": "Python 3",
   "language": "python",
   "name": "python3"
  },
  "language_info": {
   "codemirror_mode": {
    "name": "ipython",
    "version": 3
   },
   "file_extension": ".py",
   "mimetype": "text/x-python",
   "name": "python",
   "nbconvert_exporter": "python",
   "pygments_lexer": "ipython3",
   "version": "3.9.5"
  }
 },
 "nbformat": 4,
 "nbformat_minor": 1
}
